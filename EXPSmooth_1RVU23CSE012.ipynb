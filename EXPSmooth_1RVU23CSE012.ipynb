{
 "cells": [
  {
   "cell_type": "code",
   "execution_count": 5,
   "id": "4ed9da3c-12ec-4eb5-9f46-5fc3a08e5d96",
   "metadata": {},
   "outputs": [
    {
     "name": "stdout",
     "output_type": "stream",
     "text": [
      "Smoothed data: 0    10.0\n",
      "1    10.0\n",
      "2    12.0\n",
      "3    15.0\n",
      "4    13.0\n",
      "5    11.0\n",
      "6    14.0\n",
      "dtype: float64\n",
      "Forecast: 7    16.0\n",
      "8    16.0\n",
      "9    16.0\n",
      "dtype: float64\n"
     ]
    }
   ],
   "source": [
    "import pandas as pd\n",
    "from statsmodels.tsa.holtwinters import SimpleExpSmoothing\n",
    "\n",
    "data = pd.Series([10, 12, 15, 13, 11, 14, 16])\n",
    "\n",
    "model = SimpleExpSmoothing(data)\n",
    "\n",
    "fitted_model = model.fit()\n",
    "\n",
    "forecast = fitted_model.predict(start=len(data), end=len(data) + 2)\n",
    "\n",
    "print(\"Smoothed data:\", fitted_model.fittedvalues)\n",
    "print(\"Forecast:\", forecast)"
   ]
  },
  {
   "cell_type": "code",
   "execution_count": null,
   "id": "942b2145-c7f9-4d11-bb82-7a13a093da96",
   "metadata": {},
   "outputs": [],
   "source": []
  }
 ],
 "metadata": {
  "kernelspec": {
   "display_name": "Python [conda env:base] *",
   "language": "python",
   "name": "conda-base-py"
  },
  "language_info": {
   "codemirror_mode": {
    "name": "ipython",
    "version": 3
   },
   "file_extension": ".py",
   "mimetype": "text/x-python",
   "name": "python",
   "nbconvert_exporter": "python",
   "pygments_lexer": "ipython3",
   "version": "3.12.7"
  }
 },
 "nbformat": 4,
 "nbformat_minor": 5
}
