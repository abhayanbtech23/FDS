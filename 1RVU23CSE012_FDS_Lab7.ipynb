{
 "cells": [
  {
   "cell_type": "code",
   "execution_count": 3,
   "id": "3b2b8ad0-f648-406f-b38f-e8f471bc3389",
   "metadata": {},
   "outputs": [
    {
     "name": "stdout",
     "output_type": "stream",
     "text": [
      "Transactions Table:\n",
      "    Transaction              Items Purchased\n",
      "0            1  [Bread, Cheese, Egg, Juice]\n",
      "1            2       [Bread, Cheese, Juice]\n",
      "2            3        [Bread, Milk, Yogurt]\n",
      "3            4         [Bread, Juice, Milk]\n",
      "4            5        [Cheese, Juice, Milk] \n",
      "\n",
      "Step 3 Table:\n",
      "         Itemset  Frequency Support(%)\n",
      "0  Bread,Cheese          2  2/5 = 40%\n",
      "1   Bread,Juice          3  3/5 = 60%\n",
      "2    Bread,Milk          2  2/5 = 40%\n",
      "3  Cheese,Juice          3  3/5 = 60%\n",
      "4   Cheese,Milk          1  1/5 = 20%\n",
      "5    Juice,Milk          2  2/5 = 40%\n"
     ]
    }
   ],
   "source": [
    "import pandas as pd\n",
    "# Transactions table\n",
    "transactions = {\n",
    "    \"Transaction\": [1, 2, 3, 4, 5],\n",
    "    \"Items Purchased\": [\n",
    "        [\"Bread\", \"Cheese\", \"Egg\", \"Juice\"],\n",
    "        [\"Bread\", \"Cheese\", \"Juice\"],\n",
    "        [\"Bread\", \"Milk\", \"Yogurt\"],\n",
    "        [\"Bread\", \"Juice\", \"Milk\"],\n",
    "        [\"Cheese\", \"Juice\", \"Milk\"]\n",
    "    ]\n",
    "}\n",
    "df_transactions = pd.DataFrame(transactions)\n",
    "# Step 3 table\n",
    "step3_data = {\n",
    "    \"Itemset\": [\"Bread,Cheese\", \"Bread,Juice\", \"Bread,Milk\",\n",
    "                \"Cheese,Juice\", \"Cheese,Milk\", \"Juice,Milk\"],\n",
    "    \"Frequency\": [2, 3, 2, 3, 1, 2],\n",
    "    \"Support(%)\": [\"2/5 = 40%\", \"3/5 = 60%\", \"2/5 = 40%\",\n",
    "                   \"3/5 = 60%\", \"1/5 = 20%\", \"2/5 = 40%\"]\n",
    "}\n",
    "df_step3 = pd.DataFrame(step3_data)\n",
    "print(\"Transactions Table:\\n\", df_transactions, \"\\n\")\n",
    "print(\"Step 3 Table:\\n\", df_step3)"
   ]
  },
  {
   "cell_type": "code",
   "execution_count": 7,
   "id": "5726ec31-d85a-413f-a06b-fc6064ab550b",
   "metadata": {},
   "outputs": [
    {
     "name": "stdout",
     "output_type": "stream",
     "text": [
      "Rule: Cheese => Juice\n",
      "Support: 60.0%\n",
      "Confidence: 100.0%\n",
      "Lift: 1.25\n",
      "---\n"
     ]
    }
   ],
   "source": [
    "import pandas as pd\n",
    "from mlxtend.preprocessing import TransactionEncoder\n",
    "from mlxtend.frequent_patterns import apriori, association_rules\n",
    "\n",
    "# Transactions data\n",
    "transactions = [\n",
    "    ['Bread', 'Cheese', 'Egg', 'Juice'],\n",
    "    ['Bread', 'Cheese', 'Juice'],\n",
    "    ['Bread', 'Milk', 'Yogurt'],\n",
    "    ['Bread', 'Juice', 'Milk'],\n",
    "    ['Cheese', 'Juice', 'Milk']\n",
    "]\n",
    "\n",
    "# Convert to one-hot encoded DataFrame\n",
    "te = TransactionEncoder()\n",
    "te_ary = te.fit(transactions).transform(transactions)\n",
    "df = pd.DataFrame(te_ary, columns=te.columns_)\n",
    "\n",
    "# Apply Apriori algorithm with min_support=0.5 (50%)\n",
    "frequent_itemsets = apriori(df, min_support=0.5, use_colnames=True)\n",
    "\n",
    "# Generate association rules with min_confidence=0.75 (75%)\n",
    "rules = association_rules(frequent_itemsets, metric=\"confidence\", min_threshold=0.75)\n",
    "\n",
    "# Display rules that meet the requirements\n",
    "for idx, row in rules.iterrows():\n",
    "    antecedents = ', '.join(list(row['antecedents']))\n",
    "    consequents = ', '.join(list(row['consequents']))\n",
    "    print(f\"Rule: {antecedents} => {consequents}\")\n",
    "    print(f\"Support: {row['support']*100:.1f}%\")\n",
    "    print(f\"Confidence: {row['confidence']*100:.1f}%\")\n",
    "    print(f\"Lift: {row['lift']:.2f}\")\n",
    "    print('---')\n",
    "\n",
    "# Optionally, save rules as CSV\n",
    "rules.to_csv('apriori_rules.csv', index=False)"
   ]
  }
 ],
 "metadata": {
  "kernelspec": {
   "display_name": "Python [conda env:base] *",
   "language": "python",
   "name": "conda-base-py"
  },
  "language_info": {
   "codemirror_mode": {
    "name": "ipython",
    "version": 3
   },
   "file_extension": ".py",
   "mimetype": "text/x-python",
   "name": "python",
   "nbconvert_exporter": "python",
   "pygments_lexer": "ipython3",
   "version": "3.13.5"
  }
 },
 "nbformat": 4,
 "nbformat_minor": 5
}
